{
 "cells": [
  {
   "cell_type": "markdown",
   "id": "20897601",
   "metadata": {},
   "source": [
    "## <center><img src=\"https://www-league.nhlstatic.com/images/logos/league-dark/133-flat.svg\" alt=\"\" width=\"150\"/> players birth month bias</center>\n",
    "#### <center>Stanislav Maryenko</center><center>January 2022</center>\n",
    "\n",
    " - **Description:** Once a while I have read an [article](https://www.nhl.com/news/study-suggests-nhl-has-bias-in-favour-of-players-born-earlier-in-the-year/c-657724) that NHL has bias in favour of players born earlier in the year, so I want to check if this is still true nowadays. \n",
    " - **Goal:** Check if the study from the article is actually true for current NHL players (season 21-22), does it depend on the country where player was born\n",
    " - **Additional goal:** Check if there are any players in NHL from southern hemisphere of the Earth\n",
    " - **Dataset:** I was not able to find a data which contains dates of birth of all players, so I had to collect it myself using [NHL STATS API WEBSITE](https://statsapi.web.nhl.com/api/v1/)"
   ]
  },
  {
   "cell_type": "markdown",
   "id": "12acb6aa",
   "metadata": {},
   "source": [
    "### DATA"
   ]
  },
  {
   "cell_type": "markdown",
   "id": "d6a4b309",
   "metadata": {},
   "source": [
    "CSV file is going to be available together with thi notebook"
   ]
  },
  {
   "cell_type": "code",
   "execution_count": null,
   "id": "0e7a6230",
   "metadata": {},
   "outputs": [],
   "source": [
    "# Path to the data containing file\n",
    "data_path= '/Users/smaryenko/Downloads/nhl_players_jan_2022.csv'"
   ]
  },
  {
   "cell_type": "markdown",
   "id": "7a5519f1",
   "metadata": {},
   "source": [
    "If you want to collect data by yourself, you can run code snippet under the spoiler below  \n",
    "**NOTE:** code does around 1000 of API calls in order to get data for all NHL players, so use it responsibly"
   ]
  },
  {
   "cell_type": "markdown",
   "id": "750e59c8",
   "metadata": {},
   "source": [
    "<details>\n",
    "<summary><b>Code to get palyers data</b></summary>\n",
    "\n",
    "```python\n",
    "import requests  \n",
    "  \n",
    "rows_list = []  \n",
    "df = pd.DataFrame(None)  \n",
    "  \n",
    "# NHL Api url  \n",
    "url = 'https://statsapi.web.nhl.com/api/v1/'  \n",
    "  \n",
    "# Get list of all teams  \n",
    "resp = requests.get(url=url + 'teams')  \n",
    "teams_data=resp.json()  \n",
    "  \n",
    "# Loop through teams to get their roster  \n",
    "for team in teams_data['teams']:  \n",
    "      \n",
    "    # Get team roster   \n",
    "    resp = requests.get(url=url + 'teams/' + str(team['id']) + '/roster')  \n",
    "    roster_data = resp.json()  \n",
    "      \n",
    "    # Loop through team roster to get player details  \n",
    "    for person in roster_data['roster']:  \n",
    "          \n",
    "        # Get player details  \n",
    "        resp = requests.get(url=url + 'people/' + str(person['person']['id']))  \n",
    "        player_data = resp.json()  \n",
    "        player = player_data['people'][0]  \n",
    "          \n",
    "        # Save player details into dictionary  \n",
    "        dict1 = {'Id' : player['id'],   \n",
    "         'Name' : player['fullName'],   \n",
    "         'Birthday' : player['birthDate'],   \n",
    "         'Birth Country' : player['birthCountry'],   \n",
    "         'Team Id' : team['id'],   \n",
    "         'Team Name' : team['name']}  \n",
    "          \n",
    "        # Append dictionary to the list of all players  \n",
    "        rows_list.append(dict1)  \n",
    "          \n",
    "# Create dataframe from players list  \n",
    "df = pd.DataFrame(rows_list)   \n",
    "  \n",
    "# Save dataframe to csv file  \n",
    "df.to_csv(data_path, index=False)  \n",
    "```\n",
    "\n",
    "</details>"
   ]
  },
  {
   "cell_type": "code",
   "execution_count": 191,
   "id": "c59521f5",
   "metadata": {},
   "outputs": [],
   "source": [
    "# Read data from CSV file\n",
    "df = pd.read_csv(data_path, on_bad_lines='skip')"
   ]
  },
  {
   "cell_type": "markdown",
   "id": "50a9f9f7",
   "metadata": {},
   "source": [
    "### Data manipulation"
   ]
  },
  {
   "cell_type": "code",
   "execution_count": 225,
   "id": "48b51cf4",
   "metadata": {},
   "outputs": [],
   "source": [
    "# Add column with birth month of each player\n",
    "df['Birth Month'] = pd.DatetimeIndex(df['Birthday']).month"
   ]
  },
  {
   "cell_type": "code",
   "execution_count": 198,
   "id": "7f6497f9",
   "metadata": {},
   "outputs": [],
   "source": [
    "# Create a new dataframe with USA and Canada players only\n",
    "df_usa_can = df[df['Birth Country'].isin(['CAN', 'USA'])]"
   ]
  },
  {
   "cell_type": "code",
   "execution_count": 231,
   "id": "1364f681",
   "metadata": {},
   "outputs": [],
   "source": [
    "# Prepare dataframe to plot data\n",
    "df_plot = pd.concat([df.groupby('Birth Month').size(), df_usa_can.groupby('Birth Month').size()], axis=1, ignore_index=False)\n",
    "\n",
    "df_plot.reset_index(level=0, inplace=True)\n",
    "df_plot.columns = ['Birth Month', 'All Players', 'USA and CAN players']\n",
    "\n",
    "df_plot['All Players %'] = (df_plot['All Players'] / df_plot['All Players'].sum()) * 100\n",
    "df_plot['USA and CAN players %'] = (df_plot['USA and CAN players'] / df_plot['USA and CAN players'].sum()) * 100"
   ]
  },
  {
   "cell_type": "markdown",
   "id": "f6f9f2d6",
   "metadata": {},
   "source": [
    "### Data analysis"
   ]
  },
  {
   "cell_type": "code",
   "execution_count": 233,
   "id": "0066ac9e",
   "metadata": {},
   "outputs": [
    {
     "data": {
      "text/plain": [
       "<AxesSubplot:xlabel='Birth Month'>"
      ]
     },
     "execution_count": 233,
     "metadata": {},
     "output_type": "execute_result"
    },
    {
     "data": {
      "image/png": "[encoded data removed]",
      "text/plain": [
       "<Figure size 432x288 with 1 Axes>"
      ]
     },
     "metadata": {
      "needs_background": "light"
     },
     "output_type": "display_data"
    }
   ],
   "source": [
    "# Plotting data\n",
    "df_plot.plot(x='Birth Month', y=['All Players %', 'USA and CAN players %'], kind=\"bar\")"
   ]
  },
  {
   "cell_type": "markdown",
   "id": "9c4079b4",
   "metadata": {},
   "source": [
    "**Key observations:**\n",
    " - Surprisingly high amount of players born in May and July\n",
    " - Weird drop in June\n",
    " - Players born between August and December are indeed underrepresented"
   ]
  },
  {
   "cell_type": "markdown",
   "id": "feffab09",
   "metadata": {},
   "source": [
    "Lets also look on the general birth distribution in USA and Canada for 2020 to check if it has uniform distribution  \n",
    "Data was taken from\n",
    " - [National Center for Health Statistics](https://www.cdc.gov/nchs/nvss/vsrr/provisional-tables.htm) for USA\n",
    " - [Statistics Canada](https://www150.statcan.gc.ca/t1/tbl1/en/tv.action?pid=1310041501) for Canada"
   ]
  },
  {
   "cell_type": "code",
   "execution_count": 239,
   "id": "20ab8baa",
   "metadata": {},
   "outputs": [],
   "source": [
    "## Read data from Excel file\n",
    "data_births_path= '/Users/smaryenko/Downloads/USA_CAN_births_2020.xlsx'\n",
    "df_births = pd.read_excel(data_births_path)"
   ]
  },
  {
   "cell_type": "code",
   "execution_count": 240,
   "id": "91c9e6dd",
   "metadata": {},
   "outputs": [
    {
     "data": {
      "text/plain": [
       "<matplotlib.legend.Legend at 0x7faa42ed0f40>"
      ]
     },
     "execution_count": 240,
     "metadata": {},
     "output_type": "execute_result"
    },
    {
     "data": {
      "image/png": "[encoded data removed]",
      "text/plain": [
       "<Figure size 432x288 with 1 Axes>"
      ]
     },
     "metadata": {
      "needs_background": "light"
     },
     "output_type": "display_data"
    }
   ],
   "source": [
    "## Plot data\n",
    "df_births.plot(x='Month', y=['USA %', 'Canada %', 'Total %'], kind=\"bar\").legend(loc='right')"
   ]
  },
  {
   "cell_type": "markdown",
   "id": "2edd7b6c",
   "metadata": {},
   "source": [
    "**Key observations:**\n",
    " - Births are almost evenly distrributed between the months\n",
    " - Tiny peak in July"
   ]
  },
  {
   "cell_type": "markdown",
   "id": "38ac2f5a",
   "metadata": {},
   "source": [
    "**Looking into players countries of birth:**"
   ]
  },
  {
   "cell_type": "code",
   "execution_count": 238,
   "id": "c68d0aa1",
   "metadata": {},
   "outputs": [
    {
     "data": {
      "text/plain": [
       "Birth Country\n",
       "CAN    358\n",
       "USA    233\n",
       "SWE     83\n",
       "FIN     47\n",
       "RUS     42\n",
       "CZE     29\n",
       "CHE     11\n",
       "SVK      8\n",
       "DEU      6\n",
       "DNK      5\n",
       "LVA      4\n",
       "AUT      3\n",
       "FRA      3\n",
       "SVN      1\n",
       "GBR      1\n",
       "NOR      1\n",
       "NLD      1\n",
       "BGR      1\n",
       "BLR      1\n",
       "UZB      1\n",
       "dtype: int64"
      ]
     },
     "execution_count": 238,
     "metadata": {},
     "output_type": "execute_result"
    }
   ],
   "source": [
    "df.groupby(['Birth Country']).size().sort_values(ascending=False)"
   ]
  },
  {
   "cell_type": "markdown",
   "id": "b686b965",
   "metadata": {},
   "source": [
    "**Key observations:**\n",
    " - No players born in Southern hemisphere"
   ]
  },
  {
   "cell_type": "markdown",
   "id": "493dc1fe",
   "metadata": {},
   "source": [
    "### Conclusions"
   ]
  },
  {
   "cell_type": "markdown",
   "id": "93127689",
   "metadata": {},
   "source": [
    "Players born between August and December are indeed underrepresented in NHL, however this is also true for players born in June. Number of players born in May and July are the highest among others, which also correlates with general bith rates in those months in USA and Canada (July is the 'babiest' month). There are no players in NHL which were born in Southern hemisphere of the Earth."
   ]
  }
 ],
 "metadata": {
  "kernelspec": {
   "display_name": "Python 3 (ipykernel)",
   "language": "python",
   "name": "python3"
  },
  "language_info": {
   "codemirror_mode": {
    "name": "ipython",
    "version": 3
   },
   "file_extension": ".py",
   "mimetype": "text/x-python",
   "name": "python",
   "nbconvert_exporter": "python",
   "pygments_lexer": "ipython3",
   "version": "3.9.7"
  }
 },
 "nbformat": 4,
 "nbformat_minor": 5
}
