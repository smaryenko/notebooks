{
 "cells": [
  {
   "cell_type": "markdown",
   "id": "c3d07564",
   "metadata": {},
   "source": [
    "# <center>Goodreads statistics 2021</center>\n",
    "#### <center>Stanislav Maryenko</center><center>January 2022</center>\n",
    "\n",
    " - **Description:** Looking back to 2021, I have read pretty descent amount of books. Many of them were taken from recommendation lists and have pretty high average rating. So I would like to know if people's rating correlates with my taste.\n",
    " - **Goal:** Dive into books rating statistics and check if there is correlation between my and people ratings\n",
    " - **Known limitations:**\n",
    "\t* Dataset is limited to 115 books rad in 2021\n",
    "\t* My rating is a whole number between 2 and 5, but Average rating is rational"
   ]
  },
  {
   "cell_type": "markdown",
   "id": "45f3f9d5",
   "metadata": {},
   "source": [
    "## Data\n",
    "\n",
    "Data is extracted from my [Goodreads account](https://www.goodreads.com/user/year_in_books/2021/132390660) from 2021"
   ]
  },
  {
   "cell_type": "code",
   "execution_count": 139,
   "id": "6f7d3609",
   "metadata": {},
   "outputs": [],
   "source": [
    "import pandas as pd\n",
    "import matplotlib.pylab as plt\n",
    "import seaborn as sns"
   ]
  },
  {
   "cell_type": "code",
   "execution_count": 140,
   "id": "38422539",
   "metadata": {},
   "outputs": [],
   "source": [
    "#Path to the data containing file\n",
    "data_path = \"/Users/smaryenko/Downloads/goodreads_library_export.csv\""
   ]
  },
  {
   "cell_type": "code",
   "execution_count": 141,
   "id": "13fa0bad",
   "metadata": {},
   "outputs": [],
   "source": [
    "#Loading data into dataframe\n",
    "df_init = pd.read_csv(data_path, on_bad_lines='skip')"
   ]
  },
  {
   "cell_type": "markdown",
   "id": "919b2a35",
   "metadata": {},
   "source": [
    "## Data manipulation\n",
    "\n",
    "**Actions done:**\n",
    "\n",
    " - Filter in only necessary columns\n",
    " - Filter in only books from Read shelf\n",
    " - Additional column with rating difference added"
   ]
  },
  {
   "cell_type": "code",
   "execution_count": 142,
   "id": "deae206f",
   "metadata": {},
   "outputs": [],
   "source": [
    "#Filter in only necessary columns\n",
    "df = df_init[['Book Id', 'Title','Author', 'My Rating', 'Average Rating', 'Read Count']]"
   ]
  },
  {
   "cell_type": "code",
   "execution_count": 143,
   "id": "175f05ba",
   "metadata": {},
   "outputs": [],
   "source": [
    "#Filter in only books which were read\n",
    "df = df.loc[df['Read Count'] != 0]"
   ]
  },
  {
   "cell_type": "code",
   "execution_count": 144,
   "id": "c34c4477",
   "metadata": {},
   "outputs": [],
   "source": [
    "#Adding a column which contains difference between My Rating and Average Rating\n",
    "df['Rate Diff'] = df['My Rating'] - df['Average Rating']"
   ]
  },
  {
   "cell_type": "markdown",
   "id": "975c56a5",
   "metadata": {},
   "source": [
    "## Looking into statistics"
   ]
  },
  {
   "cell_type": "code",
   "execution_count": 145,
   "id": "321ef669",
   "metadata": {
    "scrolled": false
   },
   "outputs": [
    {
     "data": {
      "text/html": [
       "<div>\n",
       "<style scoped>\n",
       "    .dataframe tbody tr th:only-of-type {\n",
       "        vertical-align: middle;\n",
       "    }\n",
       "\n",
       "    .dataframe tbody tr th {\n",
       "        vertical-align: top;\n",
       "    }\n",
       "\n",
       "    .dataframe thead th {\n",
       "        text-align: right;\n",
       "    }\n",
       "</style>\n",
       "<table border=\"1\" class=\"dataframe\">\n",
       "  <thead>\n",
       "    <tr style=\"text-align: right;\">\n",
       "      <th></th>\n",
       "      <th>My Rating</th>\n",
       "      <th>Average Rating</th>\n",
       "      <th>Rate Diff</th>\n",
       "    </tr>\n",
       "  </thead>\n",
       "  <tbody>\n",
       "    <tr>\n",
       "      <th>count</th>\n",
       "      <td>115.000000</td>\n",
       "      <td>115.000000</td>\n",
       "      <td>115.000000</td>\n",
       "    </tr>\n",
       "    <tr>\n",
       "      <th>mean</th>\n",
       "      <td>3.773913</td>\n",
       "      <td>4.003565</td>\n",
       "      <td>-0.229652</td>\n",
       "    </tr>\n",
       "    <tr>\n",
       "      <th>std</th>\n",
       "      <td>0.937156</td>\n",
       "      <td>0.257873</td>\n",
       "      <td>0.903682</td>\n",
       "    </tr>\n",
       "    <tr>\n",
       "      <th>min</th>\n",
       "      <td>2.000000</td>\n",
       "      <td>3.440000</td>\n",
       "      <td>-2.200000</td>\n",
       "    </tr>\n",
       "    <tr>\n",
       "      <th>25%</th>\n",
       "      <td>3.000000</td>\n",
       "      <td>3.845000</td>\n",
       "      <td>-0.910000</td>\n",
       "    </tr>\n",
       "    <tr>\n",
       "      <th>50%</th>\n",
       "      <td>4.000000</td>\n",
       "      <td>4.020000</td>\n",
       "      <td>-0.100000</td>\n",
       "    </tr>\n",
       "    <tr>\n",
       "      <th>75%</th>\n",
       "      <td>4.500000</td>\n",
       "      <td>4.165000</td>\n",
       "      <td>0.505000</td>\n",
       "    </tr>\n",
       "    <tr>\n",
       "      <th>max</th>\n",
       "      <td>5.000000</td>\n",
       "      <td>4.670000</td>\n",
       "      <td>1.560000</td>\n",
       "    </tr>\n",
       "  </tbody>\n",
       "</table>\n",
       "</div>"
      ],
      "text/plain": [
       "        My Rating  Average Rating   Rate Diff\n",
       "count  115.000000      115.000000  115.000000\n",
       "mean     3.773913        4.003565   -0.229652\n",
       "std      0.937156        0.257873    0.903682\n",
       "min      2.000000        3.440000   -2.200000\n",
       "25%      3.000000        3.845000   -0.910000\n",
       "50%      4.000000        4.020000   -0.100000\n",
       "75%      4.500000        4.165000    0.505000\n",
       "max      5.000000        4.670000    1.560000"
      ]
     },
     "execution_count": 145,
     "metadata": {},
     "output_type": "execute_result"
    }
   ],
   "source": [
    "#Looking into statistics on rating columns\n",
    "df[['My Rating', 'Average Rating', 'Rate Diff']].describe()"
   ]
  },
  {
   "cell_type": "code",
   "execution_count": 146,
   "id": "18cd0c0c",
   "metadata": {},
   "outputs": [
    {
     "data": {
      "text/plain": [
       "<AxesSubplot:>"
      ]
     },
     "execution_count": 146,
     "metadata": {},
     "output_type": "execute_result"
    },
    {
     "data": {
      "image/png": "[encoded data removed]",
      "text/plain": [
       "<Figure size 432x288 with 1 Axes>"
      ]
     },
     "metadata": {
      "needs_background": "light"
     },
     "output_type": "display_data"
    }
   ],
   "source": [
    "#Box plotting rating columns\n",
    "df.boxplot(column=['My Rating', 'Average Rating'], showmeans=True, grid=False)"
   ]
  },
  {
   "cell_type": "code",
   "execution_count": 147,
   "id": "b5dd6cb9",
   "metadata": {},
   "outputs": [
    {
     "data": {
      "text/plain": [
       "<AxesSubplot:>"
      ]
     },
     "execution_count": 147,
     "metadata": {},
     "output_type": "execute_result"
    },
    {
     "data": {
      "image/png": "[encoded data removed]",
      "text/plain": [
       "<Figure size 432x288 with 1 Axes>"
      ]
     },
     "metadata": {
      "needs_background": "light"
     },
     "output_type": "display_data"
    }
   ],
   "source": [
    "df.boxplot(column=['Rate Diff'], showmeans=True, grid=False)"
   ]
  },
  {
   "cell_type": "markdown",
   "id": "116a050b",
   "metadata": {},
   "source": [
    "**Key observations:**\n",
    " - People's rating is more densely packed and have small deviation\n",
    " - Median value of botth rating are similar and around 4.0, however my mean rating is lower\n",
    " - Negative mean and median on Rating difference mean that I am stricter in my taste"
   ]
  },
  {
   "cell_type": "markdown",
   "id": "9be9a608",
   "metadata": {},
   "source": [
    "## Finding correlation"
   ]
  },
  {
   "cell_type": "code",
   "execution_count": 148,
   "id": "cf5fba08",
   "metadata": {},
   "outputs": [
    {
     "data": {
      "text/plain": [
       "<AxesSubplot:xlabel='Average Rating', ylabel='My Rating'>"
      ]
     },
     "execution_count": 148,
     "metadata": {},
     "output_type": "execute_result"
    },
    {
     "data": {
      "image/png": "[encoded data removed]",
      "text/plain": [
       "<Figure size 432x288 with 1 Axes>"
      ]
     },
     "metadata": {
      "needs_background": "light"
     },
     "output_type": "display_data"
    }
   ],
   "source": [
    "#Plotting correclation between My Rating and Average Rating\n",
    "sns.regplot(y='My Rating', x='Average Rating', data=df)"
   ]
  },
  {
   "cell_type": "code",
   "execution_count": 149,
   "id": "c6b767af",
   "metadata": {
    "scrolled": true
   },
   "outputs": [
    {
     "data": {
      "text/plain": [
       "0.2650698873157077"
      ]
     },
     "execution_count": 149,
     "metadata": {},
     "output_type": "execute_result"
    }
   ],
   "source": [
    "#Finding correclation between My Rating and Average Rating\n",
    "df['Average Rating'].corr(df['My Rating'])"
   ]
  },
  {
   "cell_type": "markdown",
   "id": "9cfc64c1",
   "metadata": {},
   "source": [
    "**Key observations:**\n",
    " - Correlation is positive even though it is not very high"
   ]
  },
  {
   "cell_type": "markdown",
   "id": "9f85cb76",
   "metadata": {},
   "source": [
    "## Outlines\n",
    "\n",
    " - Book which has closet average rating to mine\n",
    " - Book which I like the most, but people hated\n",
    " - Book which I did not like, however it has a good score"
   ]
  },
  {
   "cell_type": "code",
   "execution_count": 150,
   "id": "85700fb7",
   "metadata": {},
   "outputs": [
    {
     "data": {
      "text/html": [
       "<div>\n",
       "<style scoped>\n",
       "    .dataframe tbody tr th:only-of-type {\n",
       "        vertical-align: middle;\n",
       "    }\n",
       "\n",
       "    .dataframe tbody tr th {\n",
       "        vertical-align: top;\n",
       "    }\n",
       "\n",
       "    .dataframe thead th {\n",
       "        text-align: right;\n",
       "    }\n",
       "</style>\n",
       "<table border=\"1\" class=\"dataframe\">\n",
       "  <thead>\n",
       "    <tr style=\"text-align: right;\">\n",
       "      <th></th>\n",
       "      <th>Book Id</th>\n",
       "      <th>Title</th>\n",
       "      <th>Author</th>\n",
       "      <th>My Rating</th>\n",
       "      <th>Average Rating</th>\n",
       "      <th>Read Count</th>\n",
       "      <th>Rate Diff</th>\n",
       "    </tr>\n",
       "  </thead>\n",
       "  <tbody>\n",
       "    <tr>\n",
       "      <th>91</th>\n",
       "      <td>57183157</td>\n",
       "      <td>Пожалейте читателя. Как писать хорошо</td>\n",
       "      <td>Kurt Vonnegut Jr.</td>\n",
       "      <td>4</td>\n",
       "      <td>4.0</td>\n",
       "      <td>1</td>\n",
       "      <td>0.0</td>\n",
       "    </tr>\n",
       "  </tbody>\n",
       "</table>\n",
       "</div>"
      ],
      "text/plain": [
       "     Book Id                                  Title             Author  \\\n",
       "91  57183157  Пожалейте читателя. Как писать хорошо  Kurt Vonnegut Jr.   \n",
       "\n",
       "    My Rating  Average Rating  Read Count  Rate Diff  \n",
       "91          4             4.0           1        0.0  "
      ]
     },
     "execution_count": 150,
     "metadata": {},
     "output_type": "execute_result"
    }
   ],
   "source": [
    "#Finding book which has closest Average Rating compared to My Rating\n",
    "min_diff = min(df['Rate Diff'], key=abs)\n",
    "df.loc[df['Rate Diff'] == min_diff]"
   ]
  },
  {
   "cell_type": "markdown",
   "id": "6fb06a83",
   "metadata": {},
   "source": [
    "[Kurt Vonnegut Jr. - Pity the Reader: On Writing with Style](https://www.goodreads.com/book/show/45282043-pity-the-reader)"
   ]
  },
  {
   "cell_type": "code",
   "execution_count": 151,
   "id": "7e3b2cdb",
   "metadata": {
    "scrolled": true
   },
   "outputs": [
    {
     "data": {
      "text/html": [
       "<div>\n",
       "<style scoped>\n",
       "    .dataframe tbody tr th:only-of-type {\n",
       "        vertical-align: middle;\n",
       "    }\n",
       "\n",
       "    .dataframe tbody tr th {\n",
       "        vertical-align: top;\n",
       "    }\n",
       "\n",
       "    .dataframe thead th {\n",
       "        text-align: right;\n",
       "    }\n",
       "</style>\n",
       "<table border=\"1\" class=\"dataframe\">\n",
       "  <thead>\n",
       "    <tr style=\"text-align: right;\">\n",
       "      <th></th>\n",
       "      <th>Book Id</th>\n",
       "      <th>Title</th>\n",
       "      <th>Author</th>\n",
       "      <th>My Rating</th>\n",
       "      <th>Average Rating</th>\n",
       "      <th>Read Count</th>\n",
       "      <th>Rate Diff</th>\n",
       "    </tr>\n",
       "  </thead>\n",
       "  <tbody>\n",
       "    <tr>\n",
       "      <th>16</th>\n",
       "      <td>34326366</td>\n",
       "      <td>Страна коров</td>\n",
       "      <td>Adrian Jones Pearson</td>\n",
       "      <td>5</td>\n",
       "      <td>3.44</td>\n",
       "      <td>1</td>\n",
       "      <td>1.56</td>\n",
       "    </tr>\n",
       "  </tbody>\n",
       "</table>\n",
       "</div>"
      ],
      "text/plain": [
       "     Book Id         Title                Author  My Rating  Average Rating  \\\n",
       "16  34326366  Страна коров  Adrian Jones Pearson          5            3.44   \n",
       "\n",
       "    Read Count  Rate Diff  \n",
       "16           1       1.56  "
      ]
     },
     "execution_count": 151,
     "metadata": {},
     "output_type": "execute_result"
    }
   ],
   "source": [
    "#Finding book which has maximimun difference between My Rating and Average Rating\n",
    "df.loc[df['Rate Diff'] == df['Rate Diff'].max()]"
   ]
  },
  {
   "cell_type": "markdown",
   "id": "2512fb48",
   "metadata": {},
   "source": [
    "[Adrian Jones Pearson - Cow Country](https://www.goodreads.com/book/show/25363654-cow-country)"
   ]
  },
  {
   "cell_type": "code",
   "execution_count": 152,
   "id": "388ba6c5",
   "metadata": {},
   "outputs": [
    {
     "data": {
      "text/html": [
       "<div>\n",
       "<style scoped>\n",
       "    .dataframe tbody tr th:only-of-type {\n",
       "        vertical-align: middle;\n",
       "    }\n",
       "\n",
       "    .dataframe tbody tr th {\n",
       "        vertical-align: top;\n",
       "    }\n",
       "\n",
       "    .dataframe thead th {\n",
       "        text-align: right;\n",
       "    }\n",
       "</style>\n",
       "<table border=\"1\" class=\"dataframe\">\n",
       "  <thead>\n",
       "    <tr style=\"text-align: right;\">\n",
       "      <th></th>\n",
       "      <th>Book Id</th>\n",
       "      <th>Title</th>\n",
       "      <th>Author</th>\n",
       "      <th>My Rating</th>\n",
       "      <th>Average Rating</th>\n",
       "      <th>Read Count</th>\n",
       "      <th>Rate Diff</th>\n",
       "    </tr>\n",
       "  </thead>\n",
       "  <tbody>\n",
       "    <tr>\n",
       "      <th>26</th>\n",
       "      <td>21522217</td>\n",
       "      <td>Роман без вранья</td>\n",
       "      <td>Anatoly Mariengof</td>\n",
       "      <td>2</td>\n",
       "      <td>4.2</td>\n",
       "      <td>1</td>\n",
       "      <td>-2.2</td>\n",
       "    </tr>\n",
       "  </tbody>\n",
       "</table>\n",
       "</div>"
      ],
      "text/plain": [
       "     Book Id             Title             Author  My Rating  Average Rating  \\\n",
       "26  21522217  Роман без вранья  Anatoly Mariengof          2             4.2   \n",
       "\n",
       "    Read Count  Rate Diff  \n",
       "26           1       -2.2  "
      ]
     },
     "execution_count": 152,
     "metadata": {},
     "output_type": "execute_result"
    }
   ],
   "source": [
    "#Finding book which has minimum difference between My Rating and Average Rating\n",
    "df.loc[df['Rate Diff'] == df['Rate Diff'].min()]"
   ]
  },
  {
   "cell_type": "markdown",
   "id": "02aea362",
   "metadata": {},
   "source": [
    "[Anatoly Mariengof - A Novel Without Lies](https://www.goodreads.com/book/show/2419225.A_Novel_Without_Lies)"
   ]
  },
  {
   "cell_type": "markdown",
   "id": "bfed0f2e",
   "metadata": {},
   "source": [
    "## Conclusion\n",
    "\n",
    "Despite the fact that my personal judgement is more scrupulous and there are some outliers and disagreements between my taste and people's rating, in general, there is a positive correlation, which means that most probably I will like book which has high rating on Goodreads"
   ]
  }
 ],
 "metadata": {
  "kernelspec": {
   "display_name": "Python 3 (ipykernel)",
   "language": "python",
   "name": "python3"
  },
  "language_info": {
   "codemirror_mode": {
    "name": "ipython",
    "version": 3
   },
   "file_extension": ".py",
   "mimetype": "text/x-python",
   "name": "python",
   "nbconvert_exporter": "python",
   "pygments_lexer": "ipython3",
   "version": "3.9.7"
  }
 },
 "nbformat": 4,
 "nbformat_minor": 5
}
